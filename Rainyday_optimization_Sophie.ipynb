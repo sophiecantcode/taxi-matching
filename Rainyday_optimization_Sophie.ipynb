{
  "nbformat": 4,
  "nbformat_minor": 0,
  "metadata": {
    "colab": {
      "provenance": []
    },
    "kernelspec": {
      "name": "python3",
      "display_name": "Python 3"
    },
    "language_info": {
      "name": "python"
    }
  },
  "cells": [
    {
      "cell_type": "code",
      "execution_count": null,
      "metadata": {
        "colab": {
          "base_uri": "https://localhost:8080/"
        },
        "id": "ZqmP3-boBh0d",
        "outputId": "e68fc08d-1c70-4ed3-cffe-02edee5ac674"
      },
      "outputs": [
        {
          "output_type": "stream",
          "name": "stdout",
          "text": [
            "Mounted at /content/drive\n"
          ]
        }
      ],
      "source": [
        "#mounting google drive\n",
        "from google.colab import drive\n",
        "drive.mount('/content/drive')"
      ]
    },
    {
      "cell_type": "code",
      "source": [
        "pip install ortools"
      ],
      "metadata": {
        "id": "vNHKMMndgGUf"
      },
      "execution_count": null,
      "outputs": []
    },
    {
      "cell_type": "code",
      "source": [
        "#importing dataset\n",
        "import pandas as pd\n",
        "import datetime as dt\n",
        "rainday_clean = '/content/drive/MyDrive/Infrastructure Systems Optimization Group/Taxi Data and Code/Rainday/Clean/cleaned_rainday.csv'\n",
        "df1 = pd.read_csv(rainday_clean)\n"
      ],
      "metadata": {
        "id": "CfrHdjA_BrEl"
      },
      "execution_count": null,
      "outputs": []
    },
    {
      "cell_type": "code",
      "source": [
        "#removing columns not used in optimization\n",
        "df = df1.loc[:,['lpep_pickup_datetime','Pickup_latitude','Pickup_longitude','Dropoff_latitude','Dropoff_longitude','Trip_distance','Passenger_count']]\n",
        "\n",
        "#constraining pickup locations to upper Manhattan\n",
        "lat_upper = 40.882279\n",
        "lat_lower = 40.790053\n",
        "long_upper = -73.931275\n",
        "long_lower = -73.985336\n",
        "\n",
        "#constraining to 1-hour time range\n",
        "df['lpep_pickup_datetime'] = pd.to_datetime(df['lpep_pickup_datetime'])\n",
        "start_time = pd.Timestamp('01/10/2016 12:00:01 AM')\n",
        "end_time = pd.Timestamp('01/10/2016 01:00:01 AM')\n",
        "\n",
        "#only 1 passenger in shareable rides\n",
        "passenger_max = 1\n",
        "\n",
        "df = df[(df['Pickup_latitude'] >= lat_lower) & (df['Pickup_latitude'] <= lat_upper) & (df['Pickup_longitude'] >= long_lower) & (df['Pickup_longitude'] <= long_upper)]\n",
        "df = df[(df['lpep_pickup_datetime'] >= start_time) & (df['lpep_pickup_datetime'] <= end_time) & (df['Passenger_count'] <= passenger_max)]\n",
        "df = df.reset_index(drop=True)\n",
        "\n",
        "print(df.head())\n",
        "print('rows:', len(df))"
      ],
      "metadata": {
        "id": "sEDhFjGREh2D",
        "colab": {
          "base_uri": "https://localhost:8080/"
        },
        "outputId": "d0ee61d9-e0a8-4b27-f88a-3ea555306957"
      },
      "execution_count": null,
      "outputs": [
        {
          "output_type": "stream",
          "name": "stdout",
          "text": [
            "  lpep_pickup_datetime  Pickup_latitude  Pickup_longitude  Dropoff_latitude  \\\n",
            "0  2016-01-10 00:00:13        40.811588        -73.954407         40.805779   \n",
            "1  2016-01-10 00:00:24        40.809189        -73.944344         40.820637   \n",
            "2  2016-01-10 00:00:37        40.804153        -73.936951         40.813023   \n",
            "3  2016-01-10 00:00:50        40.797146        -73.949242         40.711472   \n",
            "4  2016-01-10 00:00:50        40.820671        -73.954758         40.806561   \n",
            "\n",
            "   Dropoff_longitude  Trip_distance  Passenger_count  \n",
            "0         -73.965462           0.83                1  \n",
            "1         -73.936188           0.90                1  \n",
            "2         -73.900864           2.38                1  \n",
            "3         -73.945480          13.43                1  \n",
            "4         -73.965065           1.10                1  \n",
            "rows: 482\n"
          ]
        }
      ]
    },
    {
      "cell_type": "code",
      "source": [
        "#specify the number of trips we want to analyze (trips is chronologically ordered)\n",
        "# num_trip = len(df)\n",
        "num_trip = 100"
      ],
      "metadata": {
        "id": "1AV-3rnDBwfE"
      },
      "execution_count": null,
      "outputs": []
    },
    {
      "cell_type": "code",
      "source": [
        "from ortools.linear_solver import pywraplp\n",
        "import math\n",
        "import numpy as np"
      ],
      "metadata": {
        "id": "WCO6VJwRB3VA"
      },
      "execution_count": null,
      "outputs": []
    },
    {
      "cell_type": "code",
      "source": [
        "Pickup_latitude = df['Pickup_latitude']\n",
        "Pickup_longitude = df['Pickup_longitude']\n",
        "Dropoff_latitude = df['Dropoff_latitude']\n",
        "Dropoff_longitude = df['Dropoff_longitude']\n",
        "Trip_distance = df['Trip_distance']\n",
        "Pickup_time = df['lpep_pickup_datetime']"
      ],
      "metadata": {
        "id": "e6f5gsTxd28T"
      },
      "execution_count": null,
      "outputs": []
    },
    {
      "cell_type": "code",
      "source": [
        "# define the euclidean_distance function (with conversion to miles)\n",
        "mi_per_deg_lat = 69.4 #miles per degree of latitude\n",
        "mi_per_deg_long = 52.356 #miles per degree of longitude at a central point in the NYC region (approx)\n",
        "\n",
        "def euclidean_distance(lat1, lon1, lat2, lon2):\n",
        "    # Pythagorean formula\n",
        "    return math.sqrt((mi_per_deg_lat*(lat1 - lat2))**2 + (mi_per_deg_long*(lon1 - lon2))**2)\n",
        "\n",
        "# initialize an empty matrix for pickup distances\n",
        "Pickup_matrix = np.zeros((num_trip, num_trip))\n",
        "\n",
        "# calculate distances for the entire dataset\n",
        "for i in range(num_trip):\n",
        "    for j in range(num_trip):\n",
        "        distance = euclidean_distance(Pickup_latitude[i], Pickup_longitude[i],Pickup_latitude[j], Pickup_longitude[j])\n",
        "        Pickup_matrix[i, j] = distance\n",
        "\n",
        "# Now, Pickup_matrix contains the distances between the origin points of every possible pair of trips\n",
        "# print(Pickup_matrix)"
      ],
      "metadata": {
        "id": "8vqL8UvyCanQ"
      },
      "execution_count": null,
      "outputs": []
    },
    {
      "cell_type": "code",
      "source": [
        "# initialize an empty matrix for dropoff distances\n",
        "Dropoff_matrix = np.zeros((num_trip, num_trip))\n",
        "\n",
        "# calculate distances for the entire dataset, considering the \"trip distance\" constraint\n",
        "for i in range(num_trip):\n",
        "    for j in range(num_trip):\n",
        "        distance = euclidean_distance(Dropoff_latitude[i], Dropoff_longitude[i],Dropoff_latitude[j], Dropoff_longitude[j])\n",
        "        # add to matrix as i,j element\n",
        "        Dropoff_matrix[i, j] = distance\n",
        "\n",
        "# Dropoff_matrix contains the distances between the end points of every possible pair of trips\n",
        "# print(Dropoff_matrix)"
      ],
      "metadata": {
        "id": "PPn0jLMlhAXR"
      },
      "execution_count": null,
      "outputs": []
    },
    {
      "cell_type": "code",
      "source": [
        "Timing_matrix = np.zeros((num_trip, num_trip))\n",
        "\n",
        "time_constraint = 60\n",
        "# calculate start time difference between every trip\n",
        "for i in range(num_trip):\n",
        "    for j in range(num_trip):\n",
        "        time_difference = Pickup_time[j] - Pickup_time[i]\n",
        "        #convert to minutes\n",
        "        minute_difference = time_difference.total_seconds()/60\n",
        "        #add to matrix\n",
        "        Timing_matrix[i, j] = minute_difference\n",
        "\n",
        "# Now, Timing_matrix contains the time gaps for every pair of trips\n",
        "# print(Timing_matrix)"
      ],
      "metadata": {
        "id": "0jtapfyaMBMe"
      },
      "execution_count": null,
      "outputs": []
    },
    {
      "cell_type": "code",
      "source": [
        "solver=pywraplp.Solver('SolverAssignmentProblemMIP',pywraplp.Solver.CBC_MIXED_INTEGER_PROGRAMMING)\n"
      ],
      "metadata": {
        "id": "Cxz-Nxz_ExWr"
      },
      "execution_count": null,
      "outputs": []
    },
    {
      "cell_type": "code",
      "source": [
        "# decision variables x_ij are initiated as booleans -\n",
        "# they will take a value of 1 when the trips i and j are paired and a value of 0 when i and j are not paired\n",
        "x={}\n",
        "for i in range(num_trip):\n",
        "  for j in range(num_trip):\n",
        "    if i==j:\n",
        "      x[i,j]=0\n",
        "    elif i!=j:\n",
        "      x[i,j]=solver.BoolVar('x[%i,%i]' % (i,j))\n"
      ],
      "metadata": {
        "id": "D6VWdw9IDcqq"
      },
      "execution_count": null,
      "outputs": []
    },
    {
      "cell_type": "code",
      "source": [
        "#objective function is the sum of all elements in the x_ij table\n",
        "# so it will be two times the number of pairs (since x_ij and x_ji will both be 1)\n",
        "solver.Maximize(solver.Sum([x[i, j] for i in range(num_trip) for j in range(num_trip)]))"
      ],
      "metadata": {
        "id": "gYypKaV9G4VV"
      },
      "execution_count": null,
      "outputs": []
    },
    {
      "cell_type": "code",
      "source": [
        "#constraints\n",
        "Pickup_Dmax=0.25 # to match, trip must originate 0.25 miles apart\n",
        "Dropoff_Dmax=0.5  # and their destinations must be 0.5 miles apart (assuming one passenger can be dropped off ~5min before the other)\n",
        "tmax = 20 #their trips must begin within 20 min of each other\n",
        "for i in range(num_trip):\n",
        "  for j in range(num_trip):\n",
        "    solver.Add(x[i,j]*float(Pickup_matrix[i][j]) <= Pickup_Dmax)\n",
        "    solver.Add(x[i,j]*float(Dropoff_matrix[i][j]) <= Dropoff_Dmax)\n",
        "    solver.Add(x[i,j]==x[j,i])\n",
        "    solver.Add(x[i,j]*float(Timing_matrix[i][j]) <= tmax)"
      ],
      "metadata": {
        "id": "sh6FUQ1VG9-k"
      },
      "execution_count": null,
      "outputs": []
    },
    {
      "cell_type": "code",
      "source": [
        "# to make sure that each trip is matched at most with one other trip\n",
        "# we constrain each row to only have one entry of 1\n",
        "for i in range(num_trip):\n",
        "    solver.Add(solver.Sum([x[i, j] for j in range(num_trip)]) <= 1)\n",
        "    solver.Add(solver.Sum([x[i, j] for i in range(num_trip)]) <= 1)"
      ],
      "metadata": {
        "id": "VkY-qA82IJFv"
      },
      "execution_count": null,
      "outputs": []
    },
    {
      "cell_type": "code",
      "source": [
        "# solver.constraints()\n",
        "sol = solver.Solve()"
      ],
      "metadata": {
        "id": "xOaGDKsGINmT"
      },
      "execution_count": null,
      "outputs": []
    },
    {
      "cell_type": "code",
      "source": [
        "objective_value = solver.Objective().Value()\n",
        "print('Maximum pairs =', objective_value / 2)\n",
        "\n",
        "percent_matched = objective_value / num_trip\n",
        "print('Percent of trips matched in time range: ', percent_matched*100, '%')"
      ],
      "metadata": {
        "id": "0uXZCQPeIRdb",
        "colab": {
          "base_uri": "https://localhost:8080/"
        },
        "outputId": "279c456c-2693-417d-e439-9fc0116965e7"
      },
      "execution_count": null,
      "outputs": [
        {
          "output_type": "stream",
          "name": "stdout",
          "text": [
            "Maximum pairs = 16.0\n",
            "Percent of trips matched in time range:  32.0 %\n"
          ]
        }
      ]
    },
    {
      "cell_type": "code",
      "source": [
        "# print out the matches and their original info for easier validation\n",
        "for i in range(num_trip):\n",
        "    for j in range(num_trip):\n",
        "        if i != j and x[i, j].solution_value() > 0:\n",
        "            print('Trip %d is matched with Trip %d, Distance between origins = %f mi' % (i + 1, j + 1, Pickup_matrix[i][j]))\n",
        "            print('Trip %d originates at %.6f N, and %.6f W at %s and ends at %.6f N, and %.6f W (distance: %.3f)' % (i+1,df.iloc[i,1],df.iloc[i,2],df.iloc[i,0],df.iloc[i,3],df.iloc[i,4],df.iloc[i,5]))\n",
        "            print('Trip %d originates at %.6f N, and %.6f W at %s and ends at %.6f N, and %.6f W (distance: %.3f) \\n' % (j+1,df.iloc[j,1],df.iloc[j,2],df.iloc[j,0],df.iloc[j,3],df.iloc[j,4],df.iloc[j,5]))"
      ],
      "metadata": {
        "id": "Xunjf3YOITMj",
        "colab": {
          "base_uri": "https://localhost:8080/"
        },
        "outputId": "99868eeb-a33b-476b-dbc1-d7fc04abe34a"
      },
      "execution_count": null,
      "outputs": [
        {
          "output_type": "stream",
          "name": "stdout",
          "text": [
            "Trip 2 is matched with Trip 26, Distance between origins = 0.202332 mi\n",
            "Trip 2 originates at 40.809189 N, and -73.944344 W at 2016-01-10 00:00:24 and ends at 40.820637 N, and -73.936188 W (distance: 0.900)\n",
            "Trip 26 originates at 40.806690 N, and -73.942352 W at 2016-01-10 00:03:14 and ends at 40.815926 N, and -73.941025 W (distance: 0.850) \n",
            "\n",
            "Trip 7 is matched with Trip 12, Distance between origins = 0.076008 mi\n",
            "Trip 7 originates at 40.802292 N, and -73.949394 W at 2016-01-10 00:01:02 and ends at 40.801018 N, and -73.937737 W (distance: 0.790)\n",
            "Trip 12 originates at 40.803234 N, and -73.948654 W at 2016-01-10 00:01:52 and ends at 40.805470 N, and -73.942261 W (distance: 0.600) \n",
            "\n",
            "Trip 8 is matched with Trip 59, Distance between origins = 0.241628 mi\n",
            "Trip 8 originates at 40.817703 N, and -73.941818 W at 2016-01-10 00:01:12 and ends at 40.845276 N, and -73.934860 W (distance: 2.490)\n",
            "Trip 59 originates at 40.814297 N, and -73.940865 W at 2016-01-10 00:06:58 and ends at 40.841507 N, and -73.940536 W (distance: 2.310) \n",
            "\n",
            "Trip 12 is matched with Trip 7, Distance between origins = 0.076008 mi\n",
            "Trip 12 originates at 40.803234 N, and -73.948654 W at 2016-01-10 00:01:52 and ends at 40.805470 N, and -73.942261 W (distance: 0.600)\n",
            "Trip 7 originates at 40.802292 N, and -73.949394 W at 2016-01-10 00:01:02 and ends at 40.801018 N, and -73.937737 W (distance: 0.790) \n",
            "\n",
            "Trip 13 is matched with Trip 94, Distance between origins = 0.098014 mi\n",
            "Trip 13 originates at 40.808681 N, and -73.944893 W at 2016-01-10 00:01:53 and ends at 40.814426 N, and -73.936348 W (distance: 1.100)\n",
            "Trip 94 originates at 40.809879 N, and -73.943901 W at 2016-01-10 00:10:34 and ends at 40.812054 N, and -73.935585 W (distance: 0.600) \n",
            "\n",
            "Trip 14 is matched with Trip 43, Distance between origins = 0.111252 mi\n",
            "Trip 14 originates at 40.807144 N, and -73.946304 W at 2016-01-10 00:01:55 and ends at 40.804493 N, and -73.955482 W (distance: 0.800)\n",
            "Trip 43 originates at 40.808571 N, and -73.945335 W at 2016-01-10 00:05:06 and ends at 40.800999 N, and -73.961243 W (distance: 1.300) \n",
            "\n",
            "Trip 18 is matched with Trip 83, Distance between origins = 0.097421 mi\n",
            "Trip 18 originates at 40.805077 N, and -73.939018 W at 2016-01-10 00:02:35 and ends at 40.757790 N, and -73.984177 W (distance: 4.750)\n",
            "Trip 83 originates at 40.805828 N, and -73.940590 W at 2016-01-10 00:09:13 and ends at 40.764786 N, and -73.984230 W (distance: 4.600) \n",
            "\n",
            "Trip 19 is matched with Trip 69, Distance between origins = 0.120247 mi\n",
            "Trip 19 originates at 40.807617 N, and -73.945023 W at 2016-01-10 00:02:36 and ends at 40.805592 N, and -73.952057 W (distance: 0.520)\n",
            "Trip 69 originates at 40.806774 N, and -73.947029 W at 2016-01-10 00:07:52 and ends at 40.803059 N, and -73.956429 W (distance: 0.650) \n",
            "\n",
            "Trip 21 is matched with Trip 78, Distance between origins = 0.188984 mi\n",
            "Trip 21 originates at 40.808102 N, and -73.945084 W at 2016-01-10 00:02:47 and ends at 40.802559 N, and -73.956642 W (distance: 1.020)\n",
            "Trip 78 originates at 40.809692 N, and -73.948013 W at 2016-01-10 00:08:43 and ends at 40.799690 N, and -73.951981 W (distance: 0.800) \n",
            "\n",
            "Trip 22 is matched with Trip 54, Distance between origins = 0.095043 mi\n",
            "Trip 22 originates at 40.802208 N, and -73.962296 W at 2016-01-10 00:02:56 and ends at 40.813873 N, and -73.944664 W (distance: 1.550)\n",
            "Trip 54 originates at 40.802818 N, and -73.963921 W at 2016-01-10 00:06:21 and ends at 40.816704 N, and -73.946404 W (distance: 1.700) \n",
            "\n",
            "Trip 26 is matched with Trip 2, Distance between origins = 0.202332 mi\n",
            "Trip 26 originates at 40.806690 N, and -73.942352 W at 2016-01-10 00:03:14 and ends at 40.815926 N, and -73.941025 W (distance: 0.850)\n",
            "Trip 2 originates at 40.809189 N, and -73.944344 W at 2016-01-10 00:00:24 and ends at 40.820637 N, and -73.936188 W (distance: 0.900) \n",
            "\n",
            "Trip 36 is matched with Trip 68, Distance between origins = 0.087042 mi\n",
            "Trip 36 originates at 40.825874 N, and -73.943489 W at 2016-01-10 00:04:28 and ends at 40.816891 N, and -73.941422 W (distance: 0.840)\n",
            "Trip 68 originates at 40.827045 N, and -73.942894 W at 2016-01-10 00:07:43 and ends at 40.810455 N, and -73.943535 W (distance: 1.470) \n",
            "\n",
            "Trip 41 is matched with Trip 90, Distance between origins = 0.037131 mi\n",
            "Trip 41 originates at 40.804607 N, and -73.955162 W at 2016-01-10 00:05:02 and ends at 40.816120 N, and -73.939690 W (distance: 1.340)\n",
            "Trip 90 originates at 40.805096 N, and -73.954872 W at 2016-01-10 00:10:23 and ends at 40.817394 N, and -73.938828 W (distance: 1.460) \n",
            "\n",
            "Trip 43 is matched with Trip 14, Distance between origins = 0.111252 mi\n",
            "Trip 43 originates at 40.808571 N, and -73.945335 W at 2016-01-10 00:05:06 and ends at 40.800999 N, and -73.961243 W (distance: 1.300)\n",
            "Trip 14 originates at 40.807144 N, and -73.946304 W at 2016-01-10 00:01:55 and ends at 40.804493 N, and -73.955482 W (distance: 0.800) \n",
            "\n",
            "Trip 45 is matched with Trip 56, Distance between origins = 0.146731 mi\n",
            "Trip 45 originates at 40.815136 N, and -73.943390 W at 2016-01-10 00:05:18 and ends at 40.812729 N, and -73.937859 W (distance: 0.340)\n",
            "Trip 56 originates at 40.814281 N, and -73.940826 W at 2016-01-10 00:06:31 and ends at 40.817947 N, and -73.941635 W (distance: 0.360) \n",
            "\n",
            "Trip 54 is matched with Trip 22, Distance between origins = 0.095043 mi\n",
            "Trip 54 originates at 40.802818 N, and -73.963921 W at 2016-01-10 00:06:21 and ends at 40.816704 N, and -73.946404 W (distance: 1.700)\n",
            "Trip 22 originates at 40.802208 N, and -73.962296 W at 2016-01-10 00:02:56 and ends at 40.813873 N, and -73.944664 W (distance: 1.550) \n",
            "\n",
            "Trip 56 is matched with Trip 45, Distance between origins = 0.146731 mi\n",
            "Trip 56 originates at 40.814281 N, and -73.940826 W at 2016-01-10 00:06:31 and ends at 40.817947 N, and -73.941635 W (distance: 0.360)\n",
            "Trip 45 originates at 40.815136 N, and -73.943390 W at 2016-01-10 00:05:18 and ends at 40.812729 N, and -73.937859 W (distance: 0.340) \n",
            "\n",
            "Trip 58 is matched with Trip 98, Distance between origins = 0.104794 mi\n",
            "Trip 58 originates at 40.802155 N, and -73.949471 W at 2016-01-10 00:06:43 and ends at 40.818989 N, and -73.937248 W (distance: 1.300)\n",
            "Trip 98 originates at 40.803497 N, and -73.948555 W at 2016-01-10 00:10:45 and ends at 40.821213 N, and -73.935585 W (distance: 1.400) \n",
            "\n",
            "Trip 59 is matched with Trip 8, Distance between origins = 0.241628 mi\n",
            "Trip 59 originates at 40.814297 N, and -73.940865 W at 2016-01-10 00:06:58 and ends at 40.841507 N, and -73.940536 W (distance: 2.310)\n",
            "Trip 8 originates at 40.817703 N, and -73.941818 W at 2016-01-10 00:01:12 and ends at 40.845276 N, and -73.934860 W (distance: 2.490) \n",
            "\n",
            "Trip 61 is matched with Trip 74, Distance between origins = 0.240080 mi\n",
            "Trip 61 originates at 40.804722 N, and -73.955185 W at 2016-01-10 00:07:13 and ends at 40.775738 N, and -73.946655 W (distance: 2.810)\n",
            "Trip 74 originates at 40.802448 N, and -73.958641 W at 2016-01-10 00:08:23 and ends at 40.776363 N, and -73.956100 W (distance: 2.500) \n",
            "\n",
            "Trip 64 is matched with Trip 66, Distance between origins = 0.059616 mi\n",
            "Trip 64 originates at 40.804951 N, and -73.938965 W at 2016-01-10 00:07:25 and ends at 40.818119 N, and -73.947594 W (distance: 1.390)\n",
            "Trip 66 originates at 40.804638 N, and -73.937904 W at 2016-01-10 00:07:38 and ends at 40.820847 N, and -73.939507 W (distance: 1.550) \n",
            "\n",
            "Trip 66 is matched with Trip 64, Distance between origins = 0.059616 mi\n",
            "Trip 66 originates at 40.804638 N, and -73.937904 W at 2016-01-10 00:07:38 and ends at 40.820847 N, and -73.939507 W (distance: 1.550)\n",
            "Trip 64 originates at 40.804951 N, and -73.938965 W at 2016-01-10 00:07:25 and ends at 40.818119 N, and -73.947594 W (distance: 1.390) \n",
            "\n",
            "Trip 68 is matched with Trip 36, Distance between origins = 0.087042 mi\n",
            "Trip 68 originates at 40.827045 N, and -73.942894 W at 2016-01-10 00:07:43 and ends at 40.810455 N, and -73.943535 W (distance: 1.470)\n",
            "Trip 36 originates at 40.825874 N, and -73.943489 W at 2016-01-10 00:04:28 and ends at 40.816891 N, and -73.941422 W (distance: 0.840) \n",
            "\n",
            "Trip 69 is matched with Trip 19, Distance between origins = 0.120247 mi\n",
            "Trip 69 originates at 40.806774 N, and -73.947029 W at 2016-01-10 00:07:52 and ends at 40.803059 N, and -73.956429 W (distance: 0.650)\n",
            "Trip 19 originates at 40.807617 N, and -73.945023 W at 2016-01-10 00:02:36 and ends at 40.805592 N, and -73.952057 W (distance: 0.520) \n",
            "\n",
            "Trip 74 is matched with Trip 61, Distance between origins = 0.240080 mi\n",
            "Trip 74 originates at 40.802448 N, and -73.958641 W at 2016-01-10 00:08:23 and ends at 40.776363 N, and -73.956100 W (distance: 2.500)\n",
            "Trip 61 originates at 40.804722 N, and -73.955185 W at 2016-01-10 00:07:13 and ends at 40.775738 N, and -73.946655 W (distance: 2.810) \n",
            "\n",
            "Trip 78 is matched with Trip 21, Distance between origins = 0.188984 mi\n",
            "Trip 78 originates at 40.809692 N, and -73.948013 W at 2016-01-10 00:08:43 and ends at 40.799690 N, and -73.951981 W (distance: 0.800)\n",
            "Trip 21 originates at 40.808102 N, and -73.945084 W at 2016-01-10 00:02:47 and ends at 40.802559 N, and -73.956642 W (distance: 1.020) \n",
            "\n",
            "Trip 83 is matched with Trip 18, Distance between origins = 0.097421 mi\n",
            "Trip 83 originates at 40.805828 N, and -73.940590 W at 2016-01-10 00:09:13 and ends at 40.764786 N, and -73.984230 W (distance: 4.600)\n",
            "Trip 18 originates at 40.805077 N, and -73.939018 W at 2016-01-10 00:02:35 and ends at 40.757790 N, and -73.984177 W (distance: 4.750) \n",
            "\n",
            "Trip 87 is matched with Trip 96, Distance between origins = 0.094447 mi\n",
            "Trip 87 originates at 40.809975 N, and -73.947449 W at 2016-01-10 00:09:28 and ends at 40.767715 N, and -73.982513 W (distance: 5.800)\n",
            "Trip 96 originates at 40.809361 N, and -73.949059 W at 2016-01-10 00:10:39 and ends at 40.761780 N, and -73.986824 W (distance: 5.800) \n",
            "\n",
            "Trip 90 is matched with Trip 41, Distance between origins = 0.037131 mi\n",
            "Trip 90 originates at 40.805096 N, and -73.954872 W at 2016-01-10 00:10:23 and ends at 40.817394 N, and -73.938828 W (distance: 1.460)\n",
            "Trip 41 originates at 40.804607 N, and -73.955162 W at 2016-01-10 00:05:02 and ends at 40.816120 N, and -73.939690 W (distance: 1.340) \n",
            "\n",
            "Trip 94 is matched with Trip 13, Distance between origins = 0.098014 mi\n",
            "Trip 94 originates at 40.809879 N, and -73.943901 W at 2016-01-10 00:10:34 and ends at 40.812054 N, and -73.935585 W (distance: 0.600)\n",
            "Trip 13 originates at 40.808681 N, and -73.944893 W at 2016-01-10 00:01:53 and ends at 40.814426 N, and -73.936348 W (distance: 1.100) \n",
            "\n",
            "Trip 96 is matched with Trip 87, Distance between origins = 0.094447 mi\n",
            "Trip 96 originates at 40.809361 N, and -73.949059 W at 2016-01-10 00:10:39 and ends at 40.761780 N, and -73.986824 W (distance: 5.800)\n",
            "Trip 87 originates at 40.809975 N, and -73.947449 W at 2016-01-10 00:09:28 and ends at 40.767715 N, and -73.982513 W (distance: 5.800) \n",
            "\n",
            "Trip 98 is matched with Trip 58, Distance between origins = 0.104794 mi\n",
            "Trip 98 originates at 40.803497 N, and -73.948555 W at 2016-01-10 00:10:45 and ends at 40.821213 N, and -73.935585 W (distance: 1.400)\n",
            "Trip 58 originates at 40.802155 N, and -73.949471 W at 2016-01-10 00:06:43 and ends at 40.818989 N, and -73.937248 W (distance: 1.300) \n",
            "\n"
          ]
        }
      ]
    },
    {
      "cell_type": "markdown",
      "source": [],
      "metadata": {
        "id": "tDwOBUCiZty_"
      }
    }
  ]
}